{
 "cells": [
  {
   "cell_type": "code",
   "execution_count": 1,
   "metadata": {},
   "outputs": [
    {
     "name": "stdout",
     "output_type": "stream",
     "text": [
      "{'first_name': 'Maham', 'last_name': 'Naeem', 'Age': '20', 'city': 'karachi'}\n"
     ]
    }
   ],
   "source": [
    "#Assignment_04\n",
    "personInfo={\n",
    "    'first_name':'Maham',\n",
    "    'last_name':'Naeem',\n",
    "    'Age':'20',\n",
    "    'city':'karachi'\n",
    "}\n",
    "print(personInfo)\n",
    "personInfo['qualification']=\"high academic level\"\n",
    "del personInfo['qualification']"
   ]
  },
  {
   "cell_type": "code",
   "execution_count": 2,
   "metadata": {},
   "outputs": [
    {
     "name": "stdout",
     "output_type": "stream",
     "text": [
      "City Name: karachi \n",
      "Information Country Name: Pakistan Population: 14.91 million karachi is the city of lights\n",
      "City Name: Lahore \n",
      "Information Country Name: Pakistan Population: 11.13 million Lahore remains the 42nd most heavily populated city in the world.\n",
      "City Name: Multan \n",
      "Information Country Name: Pakistan Population: 1.872 million multan is the city of saints\n"
     ]
    }
   ],
   "source": [
    "cities={\n",
    "    'karachi':{\n",
    "        'country':'Pakistan',\n",
    "        'population':'14.91 million',\n",
    "        'fact':\"karachi is the city of lights\"\n",
    "    },\n",
    "     'Lahore':{\n",
    "        'country':'Pakistan',\n",
    "        'population':'11.13 million',\n",
    "        'fact':\"Lahore remains the 42nd most heavily populated city in the world.\"\n",
    "    },\n",
    "    'Multan':{\n",
    "        'country':'Pakistan',\n",
    "        'population':'1.872 million',\n",
    "        'fact':\"multan is the city of saints\"\n",
    "    },\n",
    "    \n",
    "}\n",
    "for city in cities.keys():\n",
    "    print('City Name:',city,\"\\nInformation\",'Country Name:',cities[city]['country'],'Population:',cities[city]['population'],cities[city]['fact'])"
   ]
  },
  {
   "cell_type": "code",
   "execution_count": 3,
   "metadata": {},
   "outputs": [
    {
     "name": "stdout",
     "output_type": "stream",
     "text": [
      "Enter your Age:70\n",
      "Your movie ticket cost is $10\n"
     ]
    }
   ],
   "source": [
    "userAge=int(input(\"Enter your Age:\"))\n",
    "if userAge <=3:\n",
    "    print(\"Your movie ticket is free :)\")\n",
    "elif userAge >=3 or userAge <= 12:\n",
    "    print(\"Your movie ticket cost is $10\")\n",
    "elif userAge > 12:\n",
    "    print(\"Your movie ticket cost is $15\")\n",
    "else:\n",
    "    print(\"You enter incorrect age\")"
   ]
  },
  {
   "cell_type": "code",
   "execution_count": 4,
   "metadata": {},
   "outputs": [
    {
     "name": "stdout",
     "output_type": "stream",
     "text": [
      "One of my favourite book is  introduction to complex analysis\n"
     ]
    }
   ],
   "source": [
    "def favourite_book(title):\n",
    "    print('One of my favourite book is ',title)\n",
    "favourite_book('introduction to complex analysis')"
   ]
  },
  {
   "cell_type": "code",
   "execution_count": 6,
   "metadata": {},
   "outputs": [
    {
     "name": "stdout",
     "output_type": "stream",
     "text": [
      "Guess the number...90\n",
      "your number is greater than correct number\n",
      "Guess the number...7\n",
      "your number is lesser than correct number\n",
      "Guess the number...5\n",
      "your number is lesser than correct number\n"
     ]
    }
   ],
   "source": [
    "import random\n",
    "\n",
    "correctnumber=random.randrange(1, 30, 1) \n",
    "i=0\n",
    "flag=True\n",
    "while(i<3 and flag):\n",
    "    number=int(input('Guess the number...'))\n",
    "    if number== correctnumber:\n",
    "        print(\"Congrats you guess the correct number\")\n",
    "        flag=False\n",
    "    elif number >correctnumber:\n",
    "        print(\"your number is greater than correct number\")\n",
    "    else:\n",
    "        print(\"your number is lesser than correct number\")\n",
    "    i=i+1\n"
   ]
  },
  {
   "cell_type": "code",
   "execution_count": null,
   "metadata": {},
   "outputs": [],
   "source": []
  }
 ],
 "metadata": {
  "kernelspec": {
   "display_name": "Python 3",
   "language": "python",
   "name": "python3"
  },
  "language_info": {
   "codemirror_mode": {
    "name": "ipython",
    "version": 3
   },
   "file_extension": ".py",
   "mimetype": "text/x-python",
   "name": "python",
   "nbconvert_exporter": "python",
   "pygments_lexer": "ipython3",
   "version": "3.7.0"
  }
 },
 "nbformat": 4,
 "nbformat_minor": 2
}
