{
 "cells": [
  {
   "cell_type": "code",
   "execution_count": 2,
   "metadata": {},
   "outputs": [
    {
     "name": "stdout",
     "output_type": "stream",
     "text": [
      "enter first value67\n",
      "enter second  value90\n",
      "enter operator+\n",
      "6790 answer\n"
     ]
    }
   ],
   "source": [
    "#ASSIGNMENT 3\n",
    "value1= input('enter first value')\n",
    "value2= input(\"enter second  value\")\n",
    "operator= input('enter operator')\n",
    "if operator == \"+\":\n",
    "    ans= value1 + value2\n",
    "    print(ans, \"answer\")\n",
    "elif operator == \"-\":\n",
    "    ans= value1 - value2\n",
    "    print(ans, \"answer\")\n",
    "elif operator == \"*\":\n",
    "    ans= value1 * value2\n",
    "    print(ans, \"answer\")\n",
    "elif operator == \"/\":\n",
    "    ans= value1 / value2\n",
    "    print(ans, \"answer\")\n",
    "else:\n",
    "    print (\"enter your correcr operator\")\n",
    "\n"
   ]
  },
  {
   "cell_type": "code",
   "execution_count": 4,
   "metadata": {},
   "outputs": [
    {
     "name": "stdout",
     "output_type": "stream",
     "text": [
      "numeric value found : 5\n"
     ]
    }
   ],
   "source": [
    "lst = [\"pakistan\", \"1230\", 5, \"saylani\"]\n",
    "for value in lst:\n",
    "    if type(value) == int or type(value) == float:\n",
    "        print (f\"numeric value found : {value}\")\n",
    "        break \n",
    "    "
   ]
  },
  {
   "cell_type": "code",
   "execution_count": 6,
   "metadata": {},
   "outputs": [
    {
     "name": "stdout",
     "output_type": "stream",
     "text": [
      "key added\n"
     ]
    }
   ],
   "source": [
    "dic = {}\n",
    "dic[1] = 'key added'\n",
    "\n",
    "print (dic[1])"
   ]
  },
  {
   "cell_type": "code",
   "execution_count": 7,
   "metadata": {},
   "outputs": [
    {
     "name": "stdout",
     "output_type": "stream",
     "text": [
      "sum , 946.04\n"
     ]
    }
   ],
   "source": [
    "result = 10\n",
    "dic = {1 : 2,\n",
    "           2 : \"laptop\" ,\n",
    "           3 : 44.04, \n",
    "           4 : \"number\" ,\n",
    "           5 : 890 }\n",
    "for value in dic.values():\n",
    "    if type(value) == int or type(value) == float:\n",
    "        result = result + value \n",
    "print (f'sum , {result}')\n"
   ]
  },
  {
   "cell_type": "code",
   "execution_count": 11,
   "metadata": {},
   "outputs": [
    {
     "name": "stdout",
     "output_type": "stream",
     "text": [
      "duplicated computer\n",
      "duplicated 90\n",
      "duplicated computer\n",
      "duplicated 67\n",
      "duplicated 67\n",
      "duplicated 90\n",
      "duplicated 90\n",
      "duplicated 76\n",
      "duplicated 80\n",
      "duplicated 76\n",
      "duplicated 80\n"
     ]
    }
   ],
   "source": [
    "lst = [\"computer\", 90, \"computer\", 67, 67, 90, 5, 78, 90, 76, 80, 76,80]\n",
    "for value in lst:\n",
    "    if lst.count(value) > 1:\n",
    "        print (f\"duplicated {value}\")"
   ]
  },
  {
   "cell_type": "code",
   "execution_count": 14,
   "metadata": {},
   "outputs": [
    {
     "name": "stdout",
     "output_type": "stream",
     "text": [
      "[present_key] already exist\n"
     ]
    }
   ],
   "source": [
    "dic = { 1: \"key1\", \n",
    "            2: \"key2\" ,\n",
    "            3: \"key3\" ,}\n",
    "present_key = 3\n",
    "for key in dic.keys():\n",
    "    if key == present_key:\n",
    "        print(f\"[present_key] already exist\")"
   ]
  },
  {
   "cell_type": "code",
   "execution_count": null,
   "metadata": {},
   "outputs": [],
   "source": []
  }
 ],
 "metadata": {
  "kernelspec": {
   "display_name": "Python 3",
   "language": "python",
   "name": "python3"
  },
  "language_info": {
   "codemirror_mode": {
    "name": "ipython",
    "version": 3
   },
   "file_extension": ".py",
   "mimetype": "text/x-python",
   "name": "python",
   "nbconvert_exporter": "python",
   "pygments_lexer": "ipython3",
   "version": "3.7.0"
  }
 },
 "nbformat": 4,
 "nbformat_minor": 2
}
