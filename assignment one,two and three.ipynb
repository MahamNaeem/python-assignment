{
 "cells": [
  {
   "cell_type": "code",
   "execution_count": 1,
   "metadata": {},
   "outputs": [
    {
     "name": "stdout",
     "output_type": "stream",
     "text": [
      "Twinkle, Twinkle little star,\n",
      "\t How I wonder what you are!\n",
      "\t\t Up above the world so high,\n",
      "\t\t Like a diamond in the sky.\n",
      "Twinkle, twinkle,little star,\n",
      "\t How I wonder what you are\n"
     ]
    }
   ],
   "source": [
    "#ASSIGNMENT 01\n",
    "print(\"Twinkle, Twinkle little star,\")\n",
    "print(\"\\t How I wonder what you are!\")\n",
    "print(\"\\t\\t Up above the world so high,\")\n",
    "print(\"\\t\\t Like a diamond in the sky.\")\n",
    "print(\"Twinkle, twinkle,little star,\")\n",
    "print(\"\\t How I wonder what you are\")"
   ]
  },
  {
   "cell_type": "code",
   "execution_count": 2,
   "metadata": {},
   "outputs": [
    {
     "name": "stdout",
     "output_type": "stream",
     "text": [
      "python_version\n",
      "3.7.0 (default, Jun 28 2018, 08:04:48) [MSC v.1912 64 bit (AMD64)]\n",
      "version_info\n",
      "sys.version_info(major=3, minor=7, micro=0, releaselevel='final', serial=0)\n"
     ]
    }
   ],
   "source": [
    "import sys\n",
    "print(\"python_version\")\n",
    "print(sys.version)\n",
    "print(\"version_info\")\n",
    "print(sys.version_info)"
   ]
  },
  {
   "cell_type": "code",
   "execution_count": 3,
   "metadata": {},
   "outputs": [
    {
     "name": "stdout",
     "output_type": "stream",
     "text": [
      "2019-11-22 19:36:26.158161\n"
     ]
    }
   ],
   "source": [
    "import datetime\n",
    "currentdatetime = datetime.datetime.now()\n",
    "print(str(currentdatetime))"
   ]
  },
  {
   "cell_type": "code",
   "execution_count": 4,
   "metadata": {},
   "outputs": [
    {
     "name": "stdout",
     "output_type": "stream",
     "text": [
      "enter radius6\n",
      "113.112\n"
     ]
    }
   ],
   "source": [
    "r= (float(input(\"enter radius\")))\n",
    "radius= r**2\n",
    "pi= 3.142\n",
    "area= pi*radius\n",
    "print(float(area)) "
   ]
  },
  {
   "cell_type": "code",
   "execution_count": 5,
   "metadata": {},
   "outputs": [
    {
     "name": "stdout",
     "output_type": "stream",
     "text": [
      "enter users first nameMaham \n",
      "enter users last nameNaeem\n",
      "Maham  Naeem\n"
     ]
    }
   ],
   "source": [
    "firstname= input('enter users first name')\n",
    "lastname= input('enter users last name')\n",
    "print(firstname+ \" \" +lastname)"
   ]
  },
  {
   "cell_type": "code",
   "execution_count": 7,
   "metadata": {},
   "outputs": [
    {
     "name": "stdout",
     "output_type": "stream",
     "text": [
      "first name of founder of PakMuhammad\n",
      "seconf name of founder of PakALi Jinnah\n",
      "Muhammad ALi Jinnah\n"
     ]
    }
   ],
   "source": [
    "a= input('first name of founder of Pak')\n",
    "b= input('seconf name of founder of Pak')\n",
    "c= a+ \" \"+b\n",
    "print(c)"
   ]
  },
  {
   "cell_type": "markdown",
   "metadata": {},
   "source": []
  },
  {
   "cell_type": "code",
   "execution_count": null,
   "metadata": {},
   "outputs": [],
   "source": []
  },
  {
   "cell_type": "code",
   "execution_count": 15,
   "metadata": {},
   "outputs": [
    {
     "name": "stdout",
     "output_type": "stream",
     "text": [
      "enter marks of urdu: 67\n",
      "enter marks of english: 89\n",
      "enter marks of math: 90\n",
      "enter marks of physics: 78\n",
      "enter marks of chemistry: 64\n",
      "grade B\n"
     ]
    }
   ],
   "source": [
    "#assignment 2\n",
    "sub1=int(input(\"enter marks of urdu: \" ))\n",
    "sub2=int(input(\"enter marks of english: \"))\n",
    "sub3=int(input(\"enter marks of math: \"))\n",
    "sub4=int(input(\"enter marks of physics: \"))\n",
    "sub5=int(input(\"enter marks of chemistry: \"))\n",
    "avg=(sub1+sub2+sub3+sub4+sub5)/5\n",
    "if (avg>=90):\n",
    "    print(\"grade A1\")\n",
    "elif (avg>=80):\n",
    "    print(\"grade A\")\n",
    "elif (avg>=70):\n",
    "    print(\"grade B\")\n",
    "elif (avg>=60):\n",
    "    print(\"grade C\")\n",
    "else :\n",
    "    print(\"grade F\")"
   ]
  },
  {
   "cell_type": "code",
   "execution_count": 17,
   "metadata": {},
   "outputs": [
    {
     "name": "stdout",
     "output_type": "stream",
     "text": [
      "enter a number: 7890\n",
      "number is odd\n"
     ]
    }
   ],
   "source": [
    "number= int(input(\"enter a number: \"))\n",
    "mod= number % 2\n",
    "if mod > 0:\n",
    "    print(\"number is even\")\n",
    "else:\n",
    "    print(\"number is odd\")\n",
    " \n"
   ]
  },
  {
   "cell_type": "code",
   "execution_count": 18,
   "metadata": {},
   "outputs": [
    {
     "name": "stdout",
     "output_type": "stream",
     "text": [
      "the length of list is:  4\n"
     ]
    }
   ],
   "source": [
    "n= len([10,20,30,70])\n",
    "print(\"the length of list is: \",n)"
   ]
  },
  {
   "cell_type": "code",
   "execution_count": 20,
   "metadata": {},
   "outputs": [
    {
     "name": "stdout",
     "output_type": "stream",
     "text": [
      "how many numbers: 9\n",
      "enter number 7\n",
      "enter number 67\n",
      "enter number 90\n",
      "enter number 45\n",
      "enter number 34\n",
      "enter number 23\n",
      "enter number 45\n",
      "enter number 78\n",
      "enter number 87\n",
      "sum of elements in given list is: 476\n"
     ]
    }
   ],
   "source": [
    "lst = []\n",
    "number= int(input(\"how many numbers: \"))\n",
    "for n in range(number):\n",
    "    num= int(input(\"enter number \"))\n",
    "    lst.append(num)\n",
    "print(\"sum of elements in given list is:\", sum(lst))"
   ]
  },
  {
   "cell_type": "code",
   "execution_count": null,
   "metadata": {},
   "outputs": [],
   "source": []
  },
  {
   "cell_type": "code",
   "execution_count": 21,
   "metadata": {},
   "outputs": [
    {
     "name": "stdout",
     "output_type": "stream",
     "text": [
      "how many numbers: 7\n",
      "enter number 90\n",
      "enter number 1140\n",
      "enter number 3\n",
      "enter number 89\n",
      "enter number 1140\n",
      "enter number 95\n",
      "enter number 1100\n",
      "maximum element in the list is:  1140\n"
     ]
    }
   ],
   "source": [
    "lst=[]\n",
    "number= int(input(\"how many numbers: \"))\n",
    "for n in range(number):\n",
    "    num= int(input(\"enter number \"))\n",
    "    lst.append(num)\n",
    "print(\"maximum element in the list is: \", max(lst))"
   ]
  },
  {
   "cell_type": "code",
   "execution_count": 23,
   "metadata": {},
   "outputs": [
    {
     "name": "stdout",
     "output_type": "stream",
     "text": [
      "[6, 12, 45, 13.54, 23, 5, 4, 3, 2]\n"
     ]
    }
   ],
   "source": [
    "A= [6,12,45,13.54,80,23,78,5,67,4,89,3,2]\n",
    "number= 50\n",
    "new_list= []\n",
    "for i in A:\n",
    "    if i<=number:\n",
    "        new_list.append(i)\n",
    "print(new_list)"
   ]
  },
  {
   "cell_type": "code",
   "execution_count": null,
   "metadata": {},
   "outputs": [],
   "source": [
    "\n"
   ]
  }
 ],
 "metadata": {
  "kernelspec": {
   "display_name": "Python 3",
   "language": "python",
   "name": "python3"
  },
  "language_info": {
   "codemirror_mode": {
    "name": "ipython",
    "version": 3
   },
   "file_extension": ".py",
   "mimetype": "text/x-python",
   "name": "python",
   "nbconvert_exporter": "python",
   "pygments_lexer": "ipython3",
   "version": "3.7.0"
  }
 },
 "nbformat": 4,
 "nbformat_minor": 2
}
